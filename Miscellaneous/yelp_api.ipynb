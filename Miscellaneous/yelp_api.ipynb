{
 "cells": [
  {
   "cell_type": "code",
   "execution_count": 3,
   "metadata": {},
   "outputs": [],
   "source": [
    "import json\n",
    "import pandas as pd\n",
    "import requests"
   ]
  },
  {
   "cell_type": "code",
   "execution_count": 4,
   "metadata": {},
   "outputs": [],
   "source": [
    "api_key = 'sp23PIOPLjdyLWIpiSNbYeFaRmJFny1z8rWVzNr4fh7F7ArpXPCXJKK-ZDYQFPV8291KL3_BETzBqWE1G9G2nqdhhSo5DjrM5xS-yxl-TQ2knMQn5CHdfQCAsCgBZHYx'\n",
    "url = 'https://api.yelp.com/v3/businesses/search'\n",
    "headers = {'Authorization': 'Bearer {}'.format(api_key)}"
   ]
  },
  {
   "cell_type": "code",
   "execution_count": 5,
   "metadata": {},
   "outputs": [],
   "source": [
    "cuisines = ['Indian', 'Chinese', 'Italian']\n",
    "cuisine_list = [[] for i in range(len(cuisines))]"
   ]
  },
  {
   "cell_type": "code",
   "execution_count": null,
   "metadata": {},
   "outputs": [],
   "source": [
    "for x in range(len(cuisine_list)):\n",
    "    for y in range(20):\n",
    "        location = 'Manhattan, NY'\n",
    "        term = cuisines[x] + \" Restaurants\"\n",
    "        search_limit = 50\n",
    "        offset = 50 * y\n",
    "        categories = \"(restaurants, All)\"\n",
    "        sort_by = 'distance'\n",
    "\n",
    "        url_params = {\n",
    "                        'location': location.replace(' ', '+'),\n",
    "                        'term' : term,\n",
    "                        'limit': search_limit,\n",
    "                        'offset': offset,\n",
    "                        'categories': categories,\n",
    "                        'sorty_by': sort_by\n",
    "                    }\n",
    "        \n",
    "        response = requests.get(url, headers=headers, params=url_params)\n",
    "        cuisine_list[x].append(response)"
   ]
  },
  {
   "cell_type": "code",
   "execution_count": null,
   "metadata": {},
   "outputs": [],
   "source": [
    "for x in range(len(cuisines)):\n",
    "    for y in range(20):\n",
    "        num1 = cuisine_list[x][y].json().get('businesses', [])\n",
    "        num = len(num1)\n",
    "        if num != 50:\n",
    "            print(cuisines[x], x, y, num)"
   ]
  },
  {
   "cell_type": "code",
   "execution_count": null,
   "metadata": {},
   "outputs": [],
   "source": [
    "df = pd.DataFrame()\n",
    "for x in range(len(cuisines)):\n",
    "    if x == 0: \n",
    "        for y in range(19):\n",
    "            df_temp = pd.DataFrame.from_dict(cuisine_list[x][y].json()['businesses'])\n",
    "            df_temp.loc[:,'cuisine'] = cuisines[x]\n",
    "            df = df.append(df_temp)\n",
    "    else:\n",
    "        for y in range(20):\n",
    "            df_temp = pd.DataFrame.from_dict(cuisine_list[x][y].json()['businesses'])\n",
    "            df_temp.loc[:,'cuisine'] = cuisines[x]\n",
    "            df = df.append(df_temp)"
   ]
  },
  {
   "cell_type": "code",
   "execution_count": null,
   "metadata": {},
   "outputs": [],
   "source": [
    "df.shape\n",
    "print(len(df['name'].unique()))"
   ]
  },
  {
   "cell_type": "code",
   "execution_count": 25,
   "metadata": {},
   "outputs": [
    {
     "name": "stdout",
     "output_type": "stream",
     "text": [
      "2705\n"
     ]
    }
   ],
   "source": [
    "\n",
    "# Delete duplicate rows based on specific columns \n",
    "df2 = df.drop_duplicates(subset=[\"name\"], keep='first')\n",
    "print(len(df2['name'].unique()))\n",
    "\n"
   ]
  },
  {
   "cell_type": "code",
   "execution_count": 26,
   "metadata": {},
   "outputs": [
    {
     "name": "stdout",
     "output_type": "stream",
     "text": [
      "2705\n"
     ]
    }
   ],
   "source": [
    "print(len(df2['name']))\n",
    "df2.to_csv('data.csv', sep='\\t', encoding='utf-8')"
   ]
  }
 ],
 "metadata": {
  "kernelspec": {
   "display_name": "Python 3.8.9 64-bit",
   "language": "python",
   "name": "python3"
  },
  "language_info": {
   "codemirror_mode": {
    "name": "ipython",
    "version": 3
   },
   "file_extension": ".py",
   "mimetype": "text/x-python",
   "name": "python",
   "nbconvert_exporter": "python",
   "pygments_lexer": "ipython3",
   "version": "3.8.9"
  },
  "orig_nbformat": 4,
  "vscode": {
   "interpreter": {
    "hash": "31f2aee4e71d21fbe5cf8b01ff0e069b9275f58929596ceb00d14d90e3e16cd6"
   }
  }
 },
 "nbformat": 4,
 "nbformat_minor": 2
}
